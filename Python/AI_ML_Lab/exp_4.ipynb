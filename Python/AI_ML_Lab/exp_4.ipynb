{
 "cells": [
  {
   "cell_type": "code",
   "execution_count": 2,
   "id": "1d950176",
   "metadata": {},
   "outputs": [],
   "source": [
    "import pandas as pd"
   ]
  },
  {
   "cell_type": "code",
   "execution_count": 3,
   "id": "628efee4",
   "metadata": {},
   "outputs": [],
   "source": [
    "# Load the dataset\n",
    "df = pd.read_csv('people.csv')"
   ]
  },
  {
   "cell_type": "code",
   "execution_count": 5,
   "id": "725159b7",
   "metadata": {},
   "outputs": [
    {
     "data": {
      "text/html": [
       "<div>\n",
       "<style scoped>\n",
       "    .dataframe tbody tr th:only-of-type {\n",
       "        vertical-align: middle;\n",
       "    }\n",
       "\n",
       "    .dataframe tbody tr th {\n",
       "        vertical-align: top;\n",
       "    }\n",
       "\n",
       "    .dataframe thead th {\n",
       "        text-align: right;\n",
       "    }\n",
       "</style>\n",
       "<table border=\"1\" class=\"dataframe\">\n",
       "  <thead>\n",
       "    <tr style=\"text-align: right;\">\n",
       "      <th></th>\n",
       "      <th>Name</th>\n",
       "      <th>Age</th>\n",
       "      <th>City</th>\n",
       "      <th>Favorite_Color</th>\n",
       "    </tr>\n",
       "  </thead>\n",
       "  <tbody>\n",
       "    <tr>\n",
       "      <th>0</th>\n",
       "      <td>Alice</td>\n",
       "      <td>25</td>\n",
       "      <td>New York</td>\n",
       "      <td>Blue</td>\n",
       "    </tr>\n",
       "    <tr>\n",
       "      <th>1</th>\n",
       "      <td>Bob</td>\n",
       "      <td>30</td>\n",
       "      <td>Los Angeles</td>\n",
       "      <td>Green</td>\n",
       "    </tr>\n",
       "    <tr>\n",
       "      <th>2</th>\n",
       "      <td>Charlie</td>\n",
       "      <td>22</td>\n",
       "      <td>Chicago</td>\n",
       "      <td>Red</td>\n",
       "    </tr>\n",
       "    <tr>\n",
       "      <th>3</th>\n",
       "      <td>Diana</td>\n",
       "      <td>35</td>\n",
       "      <td>Houston</td>\n",
       "      <td>Yellow</td>\n",
       "    </tr>\n",
       "    <tr>\n",
       "      <th>4</th>\n",
       "      <td>Ethan</td>\n",
       "      <td>28</td>\n",
       "      <td>Phoenix</td>\n",
       "      <td>Blue</td>\n",
       "    </tr>\n",
       "  </tbody>\n",
       "</table>\n",
       "</div>"
      ],
      "text/plain": [
       "      Name  Age         City Favorite_Color\n",
       "0    Alice   25     New York           Blue\n",
       "1      Bob   30  Los Angeles          Green\n",
       "2  Charlie   22      Chicago            Red\n",
       "3    Diana   35      Houston         Yellow\n",
       "4    Ethan   28      Phoenix           Blue"
      ]
     },
     "execution_count": 5,
     "metadata": {},
     "output_type": "execute_result"
    }
   ],
   "source": [
    "df"
   ]
  },
  {
   "cell_type": "code",
   "execution_count": 9,
   "id": "b3afd294",
   "metadata": {},
   "outputs": [
    {
     "name": "stdout",
     "output_type": "stream",
     "text": [
      "Number of rows: 5 \n",
      "Number of column : 4\n"
     ]
    }
   ],
   "source": [
    "print(f\"Number of rows: {df.shape[0]} \\nNumber of column : {df.shape[1]}\")"
   ]
  },
  {
   "cell_type": "code",
   "execution_count": 10,
   "id": "9df1fda5",
   "metadata": {},
   "outputs": [
    {
     "name": "stdout",
     "output_type": "stream",
     "text": [
      "Size (total elements): 20\n",
      "\n",
      "First five rows:\n",
      "       Name  Age         City Favorite_Color\n",
      "0    Alice   25     New York           Blue\n",
      "1      Bob   30  Los Angeles          Green\n",
      "2  Charlie   22      Chicago            Red\n",
      "3    Diana   35      Houston         Yellow\n",
      "4    Ethan   28      Phoenix           Blue\n"
     ]
    }
   ],
   "source": [
    "print(f\"Size (total elements): {df.size}\")\n",
    "print(\"\\nFirst five rows:\\n\", df.head())"
   ]
  },
  {
   "cell_type": "code",
   "execution_count": 11,
   "id": "474b3c6c",
   "metadata": {},
   "outputs": [
    {
     "name": "stdout",
     "output_type": "stream",
     "text": [
      "\n",
      "Missing values in each column:\n",
      "Name              0\n",
      "Age               0\n",
      "City              0\n",
      "Favorite_Color    0\n",
      "dtype: int64\n"
     ]
    }
   ],
   "source": [
    "# Check for missing values\n",
    "print(\"\\nMissing values in each column:\")\n",
    "print(df.isnull().sum())"
   ]
  },
  {
   "cell_type": "code",
   "execution_count": 13,
   "id": "0b424464",
   "metadata": {},
   "outputs": [
    {
     "name": "stdout",
     "output_type": "stream",
     "text": [
      "\n",
      "Summary statistics for numerical columns:\n",
      "\n",
      "Column: Age\n",
      "Sum: 140\n",
      "Average: 28.0\n",
      "Minimum: 22\n",
      "Maximum: 35\n"
     ]
    }
   ],
   "source": [
    "# Numerical columns summary\n",
    "numerical_cols = df.select_dtypes(include=['number']).columns\n",
    "\n",
    "print(\"\\nSummary statistics for numerical columns:\")\n",
    "for col in numerical_cols:\n",
    "    print(f\"\\nColumn: {col}\")\n",
    "    print(f\"Sum: {df[col].sum()}\")\n",
    "    print(f\"Average: {df[col].mean()}\")\n",
    "    print(f\"Minimum: {df[col].min()}\")\n",
    "    print(f\"Maximum: {df[col].max()}\")"
   ]
  },
  {
   "cell_type": "code",
   "execution_count": 14,
   "id": "7c38b598",
   "metadata": {},
   "outputs": [
    {
     "name": "stdout",
     "output_type": "stream",
     "text": [
      "\n",
      "Dataset exported to 'people_exported.csv'\n"
     ]
    }
   ],
   "source": [
    "# Export the dataframe to a new CSV file\n",
    "df.to_csv('people_exported.csv', index=False)\n",
    "print(\"\\nDataset exported to 'people_exported.csv'\")"
   ]
  }
 ],
 "metadata": {
  "kernelspec": {
   "display_name": "Python 3",
   "language": "python",
   "name": "python3"
  },
  "language_info": {
   "codemirror_mode": {
    "name": "ipython",
    "version": 3
   },
   "file_extension": ".py",
   "mimetype": "text/x-python",
   "name": "python",
   "nbconvert_exporter": "python",
   "pygments_lexer": "ipython3",
   "version": "3.13.1"
  }
 },
 "nbformat": 4,
 "nbformat_minor": 5
}
